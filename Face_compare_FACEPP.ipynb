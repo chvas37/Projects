{
 "cells": [
  {
   "cell_type": "code",
   "execution_count": 1,
   "id": "2600d04f",
   "metadata": {},
   "outputs": [
    {
     "name": "stdout",
     "output_type": "stream",
     "text": [
      "Collecting python-facepp\n",
      "  Downloading python-facepp-0.1.0a5.tar.gz (21 kB)\n",
      "Requirement already satisfied: requests>=2.20.0 in c:\\users\\-\\downloads\\anaconda\\lib\\site-packages (from python-facepp) (2.27.1)\n",
      "Requirement already satisfied: urllib3<1.27,>=1.21.1 in c:\\users\\-\\downloads\\anaconda\\lib\\site-packages (from requests>=2.20.0->python-facepp) (1.26.4)\n",
      "Requirement already satisfied: charset-normalizer~=2.0.0 in c:\\users\\-\\downloads\\anaconda\\lib\\site-packages (from requests>=2.20.0->python-facepp) (2.0.12)\n",
      "Requirement already satisfied: idna<4,>=2.5 in c:\\users\\-\\downloads\\anaconda\\lib\\site-packages (from requests>=2.20.0->python-facepp) (2.10)\n",
      "Requirement already satisfied: certifi>=2017.4.17 in c:\\users\\-\\downloads\\anaconda\\lib\\site-packages (from requests>=2.20.0->python-facepp) (2020.12.5)\n",
      "Building wheels for collected packages: python-facepp\n",
      "  Building wheel for python-facepp (setup.py): started\n",
      "  Building wheel for python-facepp (setup.py): finished with status 'done'\n",
      "  Created wheel for python-facepp: filename=python_facepp-0.1.0a5-py2.py3-none-any.whl size=29121 sha256=dd1737bb4edfe48e248e37fc94469eb78aad3aa12d08f0f8aa54b44f8f79acae\n",
      "  Stored in directory: c:\\users\\-\\appdata\\local\\pip\\cache\\wheels\\f6\\94\\f0\\fc3a87e36c6ee0a4d867b72bf578be0989d801d580817c692a\n",
      "Successfully built python-facepp\n",
      "Installing collected packages: python-facepp\n",
      "Successfully installed python-facepp-0.1.0a5\n"
     ]
    }
   ],
   "source": [
    "!pip install python-facepp"
   ]
  },
  {
   "cell_type": "code",
   "execution_count": 2,
   "id": "3e1b4e29",
   "metadata": {},
   "outputs": [
    {
     "name": "stdout",
     "output_type": "stream",
     "text": [
      "Collecting emoji\n",
      "  Downloading emoji-2.2.0.tar.gz (240 kB)\n",
      "Building wheels for collected packages: emoji\n",
      "  Building wheel for emoji (setup.py): started\n",
      "  Building wheel for emoji (setup.py): finished with status 'done'\n",
      "  Created wheel for emoji: filename=emoji-2.2.0-py3-none-any.whl size=234906 sha256=73083b8ee51aea2477725fdc0cffb3b450ff38f41f47cf3f36b654f84b8402f5\n",
      "  Stored in directory: c:\\users\\-\\appdata\\local\\pip\\cache\\wheels\\86\\62\\9e\\a6b27a681abcde69970dbc0326ff51955f3beac72f15696984\n",
      "Successfully built emoji\n",
      "Installing collected packages: emoji\n",
      "Successfully installed emoji-2.2.0\n"
     ]
    }
   ],
   "source": [
    "!pip install emoji"
   ]
  },
  {
   "cell_type": "code",
   "execution_count": 40,
   "id": "d31fb23c",
   "metadata": {},
   "outputs": [
    {
     "name": "stdout",
     "output_type": "stream",
     "text": [
      "Photo1 = https://ic.wampi.ru/2022/11/22/WIN_20211117_08_15_05_Pro.jpg\n",
      "Photo2 = https://ie.wampi.ru/2022/11/22/8VochOzzqwk.jpg\n",
      "Both photographs are of same person......\n",
      "\n",
      "\n",
      "Photo1 = https://ic.wampi.ru/2022/11/22/WIN_20211117_08_15_05_Pro.jpg\n",
      "Photo2 = https://ic.wampi.ru/2022/11/22/1618118685_59-p-dzhonni-depp-62.jpg\n",
      "Both photographs are of two different persons......\n"
     ]
    }
   ],
   "source": [
    "from facepplib import FacePP, exceptions\n",
    "\n",
    "def face_comparing(app, Image1, Image2):\n",
    "    cmp_ = app.compare.get(image_url1 = Image1,\n",
    "                           image_url2 = Image2)\n",
    "   \n",
    "    print('Photo1', '=', cmp_.image1)\n",
    "    print('Photo2', '=', cmp_.image2)\n",
    "   \n",
    "    if cmp_.confidence > 90:\n",
    "        print('Both photographs are of same person......')\n",
    "    else:\n",
    "        print('Both photographs are of two different persons......')\n",
    "          \n",
    "if __name__ == '__main__':\n",
    "    \n",
    "    api_key ='xQLsTmMyqp1L2MIt7M3l0h-cQiy0Dwhl'\n",
    "    api_secret ='TyBSGw8NBEP9Tbhv_JbQM18mIlorY6-D'\n",
    "   \n",
    "    try: \n",
    "        app_ = FacePP(api_key = api_key, \n",
    "                      api_secret = api_secret)\n",
    "    \n",
    "        image1 = 'https://ic.wampi.ru/2022/11/22/WIN_20211117_08_15_05_Pro.jpg'\n",
    "        image2 = 'https://ie.wampi.ru/2022/11/22/8VochOzzqwk.jpg'\n",
    "        face_comparing(app_, image1, image2)\n",
    "        print('\\n')\n",
    "        image1 = 'https://ic.wampi.ru/2022/11/22/WIN_20211117_08_15_05_Pro.jpg'\n",
    "        image2 = 'https://ic.wampi.ru/2022/11/22/1618118685_59-p-dzhonni-depp-62.jpg'\n",
    "        face_comparing(app_, image1, image2)        \n",
    "   \n",
    "    except exceptions.BaseFacePPError as e:\n",
    "        print('Error:', e)"
   ]
  },
  {
   "cell_type": "code",
   "execution_count": null,
   "id": "f875ef56",
   "metadata": {},
   "outputs": [],
   "source": []
  }
 ],
 "metadata": {
  "kernelspec": {
   "display_name": "Python 3",
   "language": "python",
   "name": "python3"
  },
  "language_info": {
   "codemirror_mode": {
    "name": "ipython",
    "version": 3
   },
   "file_extension": ".py",
   "mimetype": "text/x-python",
   "name": "python",
   "nbconvert_exporter": "python",
   "pygments_lexer": "ipython3",
   "version": "3.8.8"
  }
 },
 "nbformat": 4,
 "nbformat_minor": 5
}
