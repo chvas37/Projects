{
  "nbformat": 4,
  "nbformat_minor": 0,
  "metadata": {
    "colab": {
      "provenance": []
    },
    "kernelspec": {
      "name": "python3",
      "display_name": "Python 3"
    },
    "language_info": {
      "name": "python"
    },
    "accelerator": "GPU",
    "gpuClass": "standard"
  },
  "cells": [
    {
      "cell_type": "code",
      "execution_count": null,
      "metadata": {
        "colab": {
          "base_uri": "https://localhost:8080/"
        },
        "id": "AB-t9ss2w90J",
        "outputId": "8f50975d-49b7-4bc2-9379-ed79e8a32c7b"
      },
      "outputs": [
        {
          "output_type": "stream",
          "name": "stdout",
          "text": [
            "Looking in indexes: https://pypi.org/simple, https://us-python.pkg.dev/colab-wheels/public/simple/\n",
            "Requirement already satisfied: dlib in /usr/local/lib/python3.7/dist-packages (19.24.0)\n",
            "Looking in indexes: https://pypi.org/simple, https://us-python.pkg.dev/colab-wheels/public/simple/\n",
            "Collecting face_recognition\n",
            "  Downloading face_recognition-1.3.0-py2.py3-none-any.whl (15 kB)\n",
            "Requirement already satisfied: Pillow in /usr/local/lib/python3.7/dist-packages (from face_recognition) (7.1.2)\n",
            "Requirement already satisfied: numpy in /usr/local/lib/python3.7/dist-packages (from face_recognition) (1.21.6)\n",
            "Requirement already satisfied: Click>=6.0 in /usr/local/lib/python3.7/dist-packages (from face_recognition) (7.1.2)\n",
            "Requirement already satisfied: dlib>=19.7 in /usr/local/lib/python3.7/dist-packages (from face_recognition) (19.24.0)\n",
            "Collecting face-recognition-models>=0.3.0\n",
            "  Downloading face_recognition_models-0.3.0.tar.gz (100.1 MB)\n",
            "\u001b[K     |████████████████████████████████| 100.1 MB 26 kB/s \n",
            "\u001b[?25hBuilding wheels for collected packages: face-recognition-models\n",
            "  Building wheel for face-recognition-models (setup.py) ... \u001b[?25l\u001b[?25hdone\n",
            "  Created wheel for face-recognition-models: filename=face_recognition_models-0.3.0-py2.py3-none-any.whl size=100566185 sha256=b46d5a9adede0b0a10d84a6735ee49eeeb0fdf0c3052c93573057d157edd5664\n",
            "  Stored in directory: /root/.cache/pip/wheels/d6/81/3c/884bcd5e1c120ff548d57c2ecc9ebf3281c9a6f7c0e7e7947a\n",
            "Successfully built face-recognition-models\n",
            "Installing collected packages: face-recognition-models, face-recognition\n",
            "Successfully installed face-recognition-1.3.0 face-recognition-models-0.3.0\n"
          ]
        }
      ],
      "source": [
        "!pip install dlib\n",
        "!pip install face_recognition\n"
      ]
    },
    {
      "cell_type": "code",
      "source": [
        "import dlib"
      ],
      "metadata": {
        "id": "NXkO8g9NWHyw"
      },
      "execution_count": null,
      "outputs": []
    },
    {
      "cell_type": "code",
      "source": [
        "from skimage import io\n",
        "from scipy.spatial import distance"
      ],
      "metadata": {
        "id": "Y5FoaETqWrfZ"
      },
      "execution_count": null,
      "outputs": []
    },
    {
      "cell_type": "code",
      "source": [
        "shape_pred = dlib.shape_predictor('shape_predictor_68_face_landmarks.dat')\n",
        "face_rec = dlib.face_recognition_model_v1('/content/dlib_face_recognition_resnet_model_v1.dat')\n",
        "detect = dlib.get_frontal_face_detector()"
      ],
      "metadata": {
        "id": "xY-Ud2Yoy8xI"
      },
      "execution_count": null,
      "outputs": []
    },
    {
      "cell_type": "code",
      "source": [
        "img1 = io.imread('/content/vasya1.jpg')"
      ],
      "metadata": {
        "id": "2bM7vgf0loZM"
      },
      "execution_count": null,
      "outputs": []
    },
    {
      "cell_type": "code",
      "source": [
        "# win1 = dlib.image_window()\n",
        "# win1.clear_overlay()\n",
        "# win1.set_image(img1)"
      ],
      "metadata": {
        "id": "akNFWHztlp3b"
      },
      "execution_count": null,
      "outputs": []
    },
    {
      "cell_type": "code",
      "source": [
        "dets1 = detect(img1, 1)"
      ],
      "metadata": {
        "id": "uqPLqmInlrlR"
      },
      "execution_count": null,
      "outputs": []
    },
    {
      "cell_type": "code",
      "source": [
        "for k, d in enumerate(dets1):\n",
        "    print(\"Detection {}: Left: {} Top: {} Right: {} Bottom: {}\".format(\n",
        "        k, d.left(), d.top(), d.right(), d.bottom()))\n",
        "    shape = shape_pred(img1, d)\n",
        "    #win1.clear_overlay()\n",
        "    #win1.add_overlay(d)\n",
        "    #win1.add_overlay(shape)"
      ],
      "metadata": {
        "colab": {
          "base_uri": "https://localhost:8080/"
        },
        "id": "yYcAvO9EltMd",
        "outputId": "27b4b2bf-2b3b-4a08-bcdf-6043d0aab60d"
      },
      "execution_count": null,
      "outputs": [
        {
          "output_type": "stream",
          "name": "stdout",
          "text": [
            "Detection 0: Left: 191 Top: 724 Right: 1149 Bottom: 1682\n"
          ]
        }
      ]
    },
    {
      "cell_type": "code",
      "source": [
        "face_descriptor1 = face_rec.compute_face_descriptor(img1, shape)"
      ],
      "metadata": {
        "id": "4OMhK1gZtxHP"
      },
      "execution_count": null,
      "outputs": []
    },
    {
      "cell_type": "code",
      "source": [
        "print(face_descriptor1)"
      ],
      "metadata": {
        "colab": {
          "base_uri": "https://localhost:8080/"
        },
        "id": "IhQjKPdrt3pv",
        "outputId": "b7384cc5-597d-40aa-fc12-c353d3b564f1"
      },
      "execution_count": null,
      "outputs": [
        {
          "output_type": "stream",
          "name": "stdout",
          "text": [
            "-0.0692904\n",
            "0.115102\n",
            "0.0560198\n",
            "0.0174004\n",
            "0.015345\n",
            "0.0192755\n",
            "-0.0137202\n",
            "-0.159235\n",
            "0.154104\n",
            "-0.0901325\n",
            "0.29033\n",
            "0.0284668\n",
            "-0.252627\n",
            "-0.0465705\n",
            "0.0331819\n",
            "0.147288\n",
            "-0.0570567\n",
            "-0.117028\n",
            "-0.113984\n",
            "-0.0760238\n",
            "0.119893\n",
            "-0.00103507\n",
            "0.024219\n",
            "0.0782819\n",
            "-0.146624\n",
            "-0.310798\n",
            "-0.102812\n",
            "-0.0753389\n",
            "-0.0299517\n",
            "-0.0686008\n",
            "0.0703824\n",
            "-0.0346837\n",
            "-0.158476\n",
            "0.0328763\n",
            "0.0323015\n",
            "0.00807376\n",
            "-0.0622054\n",
            "-0.0364462\n",
            "0.218986\n",
            "0.00353109\n",
            "-0.210776\n",
            "0.0585906\n",
            "0.0655521\n",
            "0.20747\n",
            "0.0811084\n",
            "0.0594013\n",
            "0.090987\n",
            "-0.0928207\n",
            "0.0410922\n",
            "-0.182864\n",
            "0.127426\n",
            "0.130455\n",
            "0.0692891\n",
            "0.0571162\n",
            "0.0871685\n",
            "-0.234538\n",
            "-0.0452477\n",
            "0.122092\n",
            "-0.195456\n",
            "0.110669\n",
            "0.0466869\n",
            "-0.0582823\n",
            "-0.115202\n",
            "-0.0368658\n",
            "0.137247\n",
            "0.183457\n",
            "-0.15818\n",
            "-0.160971\n",
            "0.142315\n",
            "-0.138628\n",
            "-0.0318604\n",
            "0.119666\n",
            "-0.168699\n",
            "-0.232478\n",
            "-0.271892\n",
            "0.063099\n",
            "0.490739\n",
            "0.0760753\n",
            "-0.19968\n",
            "-0.0397685\n",
            "0.00180624\n",
            "0.0156314\n",
            "0.0484461\n",
            "0.101337\n",
            "-0.0410453\n",
            "-0.0278076\n",
            "-0.0550562\n",
            "0.0624103\n",
            "0.150919\n",
            "0.0528286\n",
            "-0.0879088\n",
            "0.226585\n",
            "-0.0175107\n",
            "-0.0187861\n",
            "-0.00761185\n",
            "0.10587\n",
            "-0.0883702\n",
            "-0.0599982\n",
            "-0.116366\n",
            "-0.0754369\n",
            "-0.0397483\n",
            "-0.0161049\n",
            "-0.0236577\n",
            "0.0626484\n",
            "-0.191043\n",
            "0.209506\n",
            "0.0121364\n",
            "-0.0308346\n",
            "-0.0420933\n",
            "0.124676\n",
            "-0.116566\n",
            "0.0150822\n",
            "0.115758\n",
            "-0.24514\n",
            "0.206369\n",
            "0.16923\n",
            "0.0678323\n",
            "0.109116\n",
            "0.0387291\n",
            "0.0890645\n",
            "0.0225391\n",
            "-0.0173081\n",
            "-0.219537\n",
            "-0.0855157\n",
            "0.000540363\n",
            "-0.0351511\n",
            "0.0804467\n",
            "-0.00377886\n"
          ]
        }
      ]
    },
    {
      "cell_type": "code",
      "source": [
        "img2 = io.imread('/content/vasya2.jpg')"
      ],
      "metadata": {
        "id": "j0QoKEs8t9q4"
      },
      "execution_count": null,
      "outputs": []
    },
    {
      "cell_type": "code",
      "source": [
        "dets2 = detect(img2, 1)"
      ],
      "metadata": {
        "id": "vPZPcLFluDjU"
      },
      "execution_count": null,
      "outputs": []
    },
    {
      "cell_type": "code",
      "source": [
        "for k, d in enumerate(dets2):\n",
        "    print(\"Detection {}: Left: {} Top: {} Right: {} Bottom: {}\".format(\n",
        "        k, d.left(), d.top(), d.right(), d.bottom()))\n",
        "    shape = shape_pred(img2, d)\n",
        "    #win1.clear_overlay()\n",
        "    #win1.add_overlay(d)\n",
        "    #win1.add_overlay(shape)"
      ],
      "metadata": {
        "colab": {
          "base_uri": "https://localhost:8080/"
        },
        "id": "d1j-JFW5uEKn",
        "outputId": "6fe62e24-385e-4d34-eed9-6d75d6158e5e"
      },
      "execution_count": null,
      "outputs": [
        {
          "output_type": "stream",
          "name": "stdout",
          "text": [
            "Detection 0: Left: 919 Top: 241 Right: 1240 Bottom: 562\n"
          ]
        }
      ]
    },
    {
      "cell_type": "code",
      "source": [
        "face_descriptor2 = face_rec.compute_face_descriptor(img2, shape)"
      ],
      "metadata": {
        "id": "U0p6j8A0uVVO"
      },
      "execution_count": null,
      "outputs": []
    },
    {
      "cell_type": "code",
      "source": [
        "print(face_descriptor2)"
      ],
      "metadata": {
        "colab": {
          "base_uri": "https://localhost:8080/"
        },
        "id": "vkHOcqfhuvSo",
        "outputId": "2b3d11a7-1296-4b5a-94f1-061d635b7c98"
      },
      "execution_count": null,
      "outputs": [
        {
          "output_type": "stream",
          "name": "stdout",
          "text": [
            "-0.0788495\n",
            "0.134502\n",
            "0.094907\n",
            "-0.0118076\n",
            "-0.0313069\n",
            "0.0361498\n",
            "0.0119429\n",
            "-0.097215\n",
            "0.13625\n",
            "-0.0780194\n",
            "0.299472\n",
            "-0.0207522\n",
            "-0.30708\n",
            "-0.0637717\n",
            "0.0696116\n",
            "0.161216\n",
            "0.0134559\n",
            "-0.119156\n",
            "-0.107733\n",
            "-0.0371849\n",
            "0.0772052\n",
            "0.0173737\n",
            "0.000603486\n",
            "0.0233399\n",
            "-0.177434\n",
            "-0.304324\n",
            "-0.11744\n",
            "-0.0550084\n",
            "-0.100694\n",
            "-0.0684879\n",
            "0.0513097\n",
            "0.0231671\n",
            "-0.109786\n",
            "-0.0223359\n",
            "0.0455342\n",
            "0.00690014\n",
            "-0.0901858\n",
            "-0.0711256\n",
            "0.213198\n",
            "0.00982634\n",
            "-0.209623\n",
            "0.0556853\n",
            "0.0483458\n",
            "0.26591\n",
            "0.0774832\n",
            "0.0299875\n",
            "0.131816\n",
            "-0.0851149\n",
            "0.0325441\n",
            "-0.245831\n",
            "0.0968235\n",
            "0.126073\n",
            "0.0878589\n",
            "0.0710957\n",
            "0.0568704\n",
            "-0.17609\n",
            "-0.0172641\n",
            "0.152414\n",
            "-0.245888\n",
            "0.0994831\n",
            "0.0853415\n",
            "-0.0888475\n",
            "-0.113604\n",
            "-0.0833176\n",
            "0.18221\n",
            "0.215605\n",
            "-0.168759\n",
            "-0.191019\n",
            "0.163934\n",
            "-0.113533\n",
            "-0.0861427\n",
            "0.101937\n",
            "-0.206371\n",
            "-0.230077\n",
            "-0.314416\n",
            "0.0923759\n",
            "0.400148\n",
            "0.107155\n",
            "-0.199777\n",
            "-0.0478472\n",
            "-0.0374573\n",
            "0.0846738\n",
            "0.0132792\n",
            "0.0929169\n",
            "-0.00787752\n",
            "-0.0809294\n",
            "-0.0387896\n",
            "0.0275313\n",
            "0.205303\n",
            "-0.0269906\n",
            "-0.11085\n",
            "0.203656\n",
            "0.0354527\n",
            "-0.0381708\n",
            "-0.0212856\n",
            "0.08657\n",
            "-0.0424687\n",
            "-0.0554086\n",
            "-0.10479\n",
            "0.00950787\n",
            "-0.0324399\n",
            "-0.0534437\n",
            "-0.00271524\n",
            "0.117554\n",
            "-0.213252\n",
            "0.242145\n",
            "-0.00857764\n",
            "-0.0315989\n",
            "-0.0386781\n",
            "0.0684151\n",
            "-0.0944058\n",
            "0.0310924\n",
            "0.119731\n",
            "-0.275749\n",
            "0.20787\n",
            "0.181856\n",
            "0.0646441\n",
            "0.0960163\n",
            "0.0539064\n",
            "0.0834746\n",
            "0.0266926\n",
            "0.000703484\n",
            "-0.212454\n",
            "-0.127096\n",
            "0.0355585\n",
            "0.00433124\n",
            "0.0573428\n",
            "0.0347068\n"
          ]
        }
      ]
    },
    {
      "cell_type": "code",
      "source": [
        "a = distance.euclidean(face_descriptor1, face_descriptor2)\n",
        "if a <= 0.6:\n",
        "  print(\"Человек совпал\")\n",
        "else:\n",
        "  print(\"Разные люди\")"
      ],
      "metadata": {
        "colab": {
          "base_uri": "https://localhost:8080/"
        },
        "id": "rRH2XynQvBYx",
        "outputId": "2ebb63c6-e4a5-41bf-e573-547dd2b36aac"
      },
      "execution_count": null,
      "outputs": [
        {
          "output_type": "stream",
          "name": "stdout",
          "text": [
            "Человек совпал\n"
          ]
        }
      ]
    },
    {
      "cell_type": "code",
      "source": [],
      "metadata": {
        "id": "FVEW6GDUvFVp"
      },
      "execution_count": null,
      "outputs": []
    }
  ]
}